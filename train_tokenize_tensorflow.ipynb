{
  "nbformat": 4,
  "nbformat_minor": 0,
  "metadata": {
    "colab": {
      "provenance": [],
      "authorship_tag": "ABX9TyMzqzP/uynB+gKUhABVvp6+",
      "include_colab_link": true
    },
    "kernelspec": {
      "name": "python3",
      "display_name": "Python 3"
    },
    "language_info": {
      "name": "python"
    }
  },
  "cells": [
    {
      "cell_type": "markdown",
      "metadata": {
        "id": "view-in-github",
        "colab_type": "text"
      },
      "source": [
        "<a href=\"https://colab.research.google.com/github/yiyichanmyae/hyper/blob/main/train_tokenize_tensorflow.ipynb\" target=\"_parent\"><img src=\"https://colab.research.google.com/assets/colab-badge.svg\" alt=\"Open In Colab\"/></a>"
      ]
    },
    {
      "cell_type": "code",
      "execution_count": null,
      "metadata": {
        "colab": {
          "base_uri": "https://localhost:8080/"
        },
        "id": "dVjtUkIb0obI",
        "outputId": "705f8665-4852-4e79-f69e-d27d315bb1f2"
      },
      "outputs": [
        {
          "output_type": "stream",
          "name": "stdout",
          "text": [
            "word and indices after training : \n",
            "{'i': 1, 'love': 2, 'ice': 3, 'cream': 4, 'my': 5, 'mom': 6, \"i'd\": 7, 'like': 8, 'to': 9, 'travel': 10, 'around': 11, 'the': 12, 'world': 13}\n"
          ]
        }
      ],
      "source": []
    },
    {
      "cell_type": "code",
      "source": [
        "from tensorflow.keras.preprocessing.text import Tokenizer\n",
        "\n",
        "def train_tokenizer(corpus):\n",
        "  '''\n",
        "    Input \n",
        "\n",
        "    corpus : list of strings\n",
        "\n",
        "    Output\n",
        "\n",
        "    object of trained tokenizer \n",
        "  '''\n",
        "  tokenizer = Tokenizer(num_words=300)\n",
        "  tokenizer.fit_on_texts(corpus)\n",
        "\n",
        "  print(f'word and indices after training : \\n{tokenizer.word_index}')\n",
        "\n",
        "  return tokenizer\n",
        "\n",
        "texts = ['I love ice-cream', \n",
        "     'I love my mom',\n",
        "     'I\\'d like to travel around the world']\n",
        "tokenizer = train_tokenizer(texts)\n",
        "\n",
        "transformed_seq = tokenizer.texts_to_sequences(texts)\n",
        "print(f'transformed sequences from texts with trained tokenizer \\n{transformed_seq}')"
      ],
      "metadata": {
        "colab": {
          "base_uri": "https://localhost:8080/"
        },
        "id": "8zAaMYH19EeP",
        "outputId": "061293f6-8140-4c4f-9e32-8ec1371c9c5a"
      },
      "execution_count": 11,
      "outputs": [
        {
          "output_type": "stream",
          "name": "stdout",
          "text": [
            "word and indices after training : \n",
            "{'i': 1, 'love': 2, 'ice': 3, 'cream': 4, 'my': 5, 'mom': 6, \"i'd\": 7, 'like': 8, 'to': 9, 'travel': 10, 'around': 11, 'the': 12, 'world': 13}\n",
            "transformed sequences from texts with trained tokenizer \n",
            "[[1, 2, 3, 4], [1, 2, 5, 6], [7, 8, 9, 10, 11, 12, 13]]\n"
          ]
        }
      ]
    },
    {
      "cell_type": "code",
      "source": [],
      "metadata": {
        "id": "Yz6jiebF_GxX"
      },
      "execution_count": null,
      "outputs": []
    }
  ]
}