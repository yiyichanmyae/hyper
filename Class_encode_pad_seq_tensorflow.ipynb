{
  "nbformat": 4,
  "nbformat_minor": 0,
  "metadata": {
    "colab": {
      "provenance": [],
      "authorship_tag": "ABX9TyPV+zJi/hZvIEOLbavk47+y",
      "include_colab_link": true
    },
    "kernelspec": {
      "name": "python3",
      "display_name": "Python 3"
    },
    "language_info": {
      "name": "python"
    }
  },
  "cells": [
    {
      "cell_type": "markdown",
      "metadata": {
        "id": "view-in-github",
        "colab_type": "text"
      },
      "source": [
        "<a href=\"https://colab.research.google.com/github/yiyichanmyae/hyper/blob/main/Hyper_encode_pad_seq_tensorflow.ipynb\" target=\"_parent\"><img src=\"https://colab.research.google.com/assets/colab-badge.svg\" alt=\"Open In Colab\"/></a>"
      ]
    },
    {
      "cell_type": "code",
      "source": [
        "from traitlets.traitlets import default\n",
        "from tensorflow.keras.preprocessing.text import Tokenizer\n",
        "from tensorflow.keras.preprocessing.sequence import pad_sequences\n",
        "import tensorflow.keras.preprocessing as preprocessing\n",
        "\n",
        "class Preprocess:\n",
        "\n",
        "  def __init__(self, texts):\n",
        "    self.texts = texts\n",
        "    self.tokenizer = None\n",
        "\n",
        "  def train_tokenizer(self, num_words=None):\n",
        "    '''\n",
        "      Train the Tokenizer Object\n",
        "\n",
        "      Input \n",
        "      -----\n",
        "      corpus : list of strings\n",
        "\n",
        "      Output\n",
        "      -----\n",
        "      Null\n",
        "    '''\n",
        "    self.tokenizer = Tokenizer(num_words=300, oov_token=\" \")\n",
        "    self.tokenizer.fit_on_texts(self.texts)\n",
        "    print(f'word and indices after training : \\n{self.tokenizer.word_index}')\n",
        "\n",
        "  def transform_texts2seq(self, texts, padding='pre', truncating='pre', **maxlen):\n",
        "    '''\n",
        "      Transform input texts into number of sequences with Tokenizer \n",
        "      includding Pudding\n",
        "\n",
        "      Input \n",
        "      -----\n",
        "      corpus : list of strings\n",
        "\n",
        "      Output\n",
        "      -----\n",
        "      list of lists of integer numbers ( transformed from word to number)\n",
        "    '''\n",
        "\n",
        "    # Encode text to list of numbers\n",
        "    encoded_seq = self.tokenizer.texts_to_sequences(texts)\n",
        "\n",
        "    # Pad the sequence\n",
        "    if maxlen['maxlen'] :\n",
        "      encoded_padded_seq = pad_sequences(\n",
        "          encoded_seq, \n",
        "          padding=padding, \n",
        "          truncating=truncating, \n",
        "          maxlen=maxlen['maxlen']\n",
        "        )\n",
        "    else :\n",
        "      encoded_padded_seq = pad_sequences(\n",
        "          encoded_seq, \n",
        "          padding=padding, \n",
        "          truncating=truncating, \n",
        "          maxlen=maxlen['maxlen']\n",
        "        )\n",
        "\n",
        "    return encoded_padded_seq\n",
        "\n",
        "  "
      ],
      "metadata": {
        "id": "8zAaMYH19EeP"
      },
      "execution_count": 11,
      "outputs": []
    },
    {
      "cell_type": "code",
      "source": [
        "texts = ['I love ice-cream', \n",
        "     'I love my mom',\n",
        "     'I\\'d like to travel around the world']\n",
        "\n",
        "texts_toencode = ['I love ice-cream', \n",
        "     'I love my mom',\n",
        "     'I\\'d like to travel around the world',\n",
        "     'I love myself']\n",
        "     \n",
        "Preprocessor = Preprocess(texts)\n",
        "Preprocessor.train_tokenizer(num_words = 300)\n",
        "encoded_seq = Preprocessor.transform_texts2seq(\n",
        "    texts_toencode, padding='post', truncating='post', maxlen=10\n",
        "  )\n",
        "print(encoded_seq)"
      ],
      "metadata": {
        "colab": {
          "base_uri": "https://localhost:8080/"
        },
        "id": "7Z2-cKukRkHO",
        "outputId": "166d2431-80fc-479f-8a93-26810cbed2e7"
      },
      "execution_count": 14,
      "outputs": [
        {
          "output_type": "stream",
          "name": "stdout",
          "text": [
            "word and indices after training : \n",
            "{' ': 1, 'i': 2, 'love': 3, 'ice': 4, 'cream': 5, 'my': 6, 'mom': 7, \"i'd\": 8, 'like': 9, 'to': 10, 'travel': 11, 'around': 12, 'the': 13, 'world': 14}\n",
            "[[ 2  3  4  5  0  0  0  0  0  0]\n",
            " [ 2  3  6  7  0  0  0  0  0  0]\n",
            " [ 8  9 10 11 12 13 14  0  0  0]\n",
            " [ 2  3  1  0  0  0  0  0  0  0]]\n"
          ]
        }
      ]
    },
    {
      "cell_type": "code",
      "source": [],
      "metadata": {
        "id": "OpOwnacJOUrU"
      },
      "execution_count": null,
      "outputs": []
    }
  ]
}
