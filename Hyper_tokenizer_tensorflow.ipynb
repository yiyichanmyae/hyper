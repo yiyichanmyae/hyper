{
  "nbformat": 4,
  "nbformat_minor": 0,
  "metadata": {
    "colab": {
      "provenance": []
    },
    "kernelspec": {
      "name": "python3",
      "display_name": "Python 3"
    },
    "language_info": {
      "name": "python"
    }
  },
  "cells": [
    {
      "cell_type": "code",
      "execution_count": 8,
      "metadata": {
        "colab": {
          "base_uri": "https://localhost:8080/"
        },
        "id": "dVjtUkIb0obI",
        "outputId": "705f8665-4852-4e79-f69e-d27d315bb1f2"
      },
      "outputs": [
        {
          "output_type": "stream",
          "name": "stdout",
          "text": [
            "word and indices after training : \n",
            "{'i': 1, 'love': 2, 'ice': 3, 'cream': 4, 'my': 5, 'mom': 6, \"i'd\": 7, 'like': 8, 'to': 9, 'travel': 10, 'around': 11, 'the': 12, 'world': 13}\n"
          ]
        }
      ],
      "source": [
        "from tensorflow.keras.preprocessing.text import Tokenizer\n",
        "\n",
        "tokenizer = Tokenizer(num_words = 300)\n",
        "\n",
        "tokenizer.fit_on_texts(\n",
        "    ['I love ice-cream', \n",
        "     'I love my mom',\n",
        "     'I\\'d like to travel around the world']\n",
        ")\n",
        "\n",
        "print(f'word and indices after training : \\n{tokenizer.word_index}')"
      ]
    },
    {
      "cell_type": "code",
      "source": [
        "def train_tokenizer(corpus):\n",
        "  '''\n",
        "    Input \n",
        "\n",
        "    corpus : list of strings\n",
        "\n",
        "    Output\n",
        "\n",
        "    object of trained tokenizer \n",
        "  '''\n",
        "  tokenizer = Tokenizer(num_words=300)\n",
        "  tokenizer.fit_on_texts(corpus)\n",
        "\n",
        "  print(f'word and indices after training : \\n{tokenizer.word_index}')\n",
        "\n",
        "  return tokenizer\n",
        "\n",
        "texts = ['I love ice-cream', \n",
        "     'I love my mom',\n",
        "     'I\\'d like to travel around the world']\n",
        "tokenizer = train_tokenizer(texts)"
      ],
      "metadata": {
        "colab": {
          "base_uri": "https://localhost:8080/"
        },
        "id": "8zAaMYH19EeP",
        "outputId": "3e0df8c7-a9cf-4b74-982a-980369445836"
      },
      "execution_count": 9,
      "outputs": [
        {
          "output_type": "stream",
          "name": "stdout",
          "text": [
            "word and indices after training : \n",
            "{'i': 1, 'love': 2, 'ice': 3, 'cream': 4, 'my': 5, 'mom': 6, \"i'd\": 7, 'like': 8, 'to': 9, 'travel': 10, 'around': 11, 'the': 12, 'world': 13}\n"
          ]
        }
      ]
    },
    {
      "cell_type": "code",
      "source": [],
      "metadata": {
        "id": "Yz6jiebF_GxX"
      },
      "execution_count": null,
      "outputs": []
    }
  ]
}